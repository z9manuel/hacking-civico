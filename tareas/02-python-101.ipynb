{
  "nbformat": 4,
  "nbformat_minor": 0,
  "metadata": {
    "colab": {
      "name": "02-python-101.ipynb",
      "provenance": [],
      "authorship_tag": "ABX9TyMCDE9LBJdZf7g6V7+LZcWH",
      "include_colab_link": true
    },
    "kernelspec": {
      "name": "python3",
      "display_name": "Python 3"
    }
  },
  "cells": [
    {
      "cell_type": "markdown",
      "metadata": {
        "id": "view-in-github",
        "colab_type": "text"
      },
      "source": [
        "<a href=\"https://colab.research.google.com/github/z9manuel/hacking-civico/blob/master/tareas/02-python-101.ipynb\" target=\"_parent\"><img src=\"https://colab.research.google.com/assets/colab-badge.svg\" alt=\"Open In Colab\"/></a>"
      ]
    },
    {
      "cell_type": "markdown",
      "metadata": {
        "id": "EvR4OcHfEcMV",
        "colab_type": "text"
      },
      "source": [
        "# **Tarea 2**\n",
        "\n",
        "\n",
        "Acorde con el censo de población *INEGI 2015* tenemos los siguientes datos:\n",
        "\n",
        "\n",
        "---\n",
        "\n",
        "\n",
        "\n",
        "**Habitantes**:\n",
        "\n",
        "León: 1,578,626 (2015)\n",
        "\n",
        "Guanajuato: 5,853,677 (2015)\n",
        "\n",
        "México: 119,938,473 (2015)\n",
        "\n",
        "\n",
        "\n",
        "---\n",
        "\n",
        "\n",
        "**Superficie en K2**\n",
        "\n",
        "León: 1,220 km²\n",
        "\n",
        "Guanajuato: 30,607 km²\n",
        "\n",
        "México: 1 964 375 km²\n",
        "\n",
        "\n",
        "\n",
        "---\n",
        "\n",
        "\n",
        "**La densidad de publación de calcula con la siguiente formula:**\n",
        "\n",
        "*Densidad de población* = **DP** = *(Número de habitantes)* / *(Área en kilómetros o millas cuadrados)*\n",
        "\n",
        "---\n",
        "\n"
      ]
    },
    {
      "cell_type": "code",
      "metadata": {
        "id": "qXJi6hBzEqiV",
        "colab_type": "code",
        "colab": {}
      },
      "source": [
        "# Calcuos de Densidad Poblacional (dp)\n",
        "# Definición de valores y funciones\n",
        "\n",
        "# Poblacion\n",
        "p_Leon= 1578626\n",
        "p_Guanajuato= 5853677\n",
        "p_Mexico= 119938473\n",
        "\n",
        "# Superficies en KM2\n",
        "s_Leon= 1220\n",
        "s_Guanajuato= 30607\n",
        "s_Mexico= 1964375\n",
        "\n",
        "def dp (habitantes, a_km2):\n",
        "  return (habitantes/a_km2)\n",
        "\n"
      ],
      "execution_count": 3,
      "outputs": []
    },
    {
      "cell_type": "code",
      "metadata": {
        "id": "1rLjI8j6ElmF",
        "colab_type": "code",
        "colab": {
          "base_uri": "https://localhost:8080/",
          "height": 85
        },
        "outputId": "6a376401-a19f-43d5-f43b-4e9605a36cbe"
      },
      "source": [
        "# Ejección de funciones y presentación de datos\n",
        "\n",
        "dp_leon = dp (p_Leon, s_Leon)\n",
        "dp_Guanajuato = dp (p_Guanajuato, s_Guanajuato)\n",
        "dp_Mexico = dp (p_Mexico, s_Mexico)\n",
        "\n",
        "print (\"Calculos de densidad poblacional\")\n",
        "print (\"Densidad poblacional León: \" + str (dp_leon) + \" hab/km2\")\n",
        "print (\"Densidad poblacional Guanajuato: \" + str (dp_Guanajuato) + \" hab/km2\")\n",
        "print (\"Densidad poblacional México: \" + str (dp_Mexico) + \" hab/km2\")"
      ],
      "execution_count": 5,
      "outputs": [
        {
          "output_type": "stream",
          "text": [
            "Calculos de densidad poblacional\n",
            "Densidad poblacional León: 1293.955737704918 hab/km2\n",
            "Densidad poblacional Guanajuato: 191.25288332734343 hab/km2\n",
            "Densidad poblacional México: 61.05681094495705 hab/km2\n"
          ],
          "name": "stdout"
        }
      ]
    }
  ]
}