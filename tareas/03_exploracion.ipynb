{
  "nbformat": 4,
  "nbformat_minor": 0,
  "metadata": {
    "colab": {
      "name": "03-exploracion.ipynb",
      "provenance": [],
      "collapsed_sections": [],
      "authorship_tag": "ABX9TyMTWVLeJOZh1Jk+/ZoR8jB9",
      "include_colab_link": true
    },
    "kernelspec": {
      "name": "python3",
      "display_name": "Python 3"
    }
  },
  "cells": [
    {
      "cell_type": "markdown",
      "metadata": {
        "id": "view-in-github",
        "colab_type": "text"
      },
      "source": [
        "<a href=\"https://colab.research.google.com/github/z9manuel/hacking-civico/blob/master/tareas/03_exploracion.ipynb\" target=\"_parent\"><img src=\"https://colab.research.google.com/assets/colab-badge.svg\" alt=\"Open In Colab\"/></a>"
      ]
    },
    {
      "cell_type": "markdown",
      "metadata": {
        "id": "8G_B4oS40Syz",
        "colab_type": "text"
      },
      "source": [
        "**Nota:** No me funciono la descarga, los baje directo de la página y luego subi los datos de forma manual."
      ]
    },
    {
      "cell_type": "code",
      "metadata": {
        "id": "Go7NuOMlwPwJ",
        "colab_type": "code",
        "colab": {
          "base_uri": "https://localhost:8080/",
          "height": 204
        },
        "outputId": "5018c08d-c1c1-43f8-8694-b16f80d1500b"
      },
      "source": [
        "# Para descargar el conjunto de datos\n",
        "!wget http://datosabiertos.salud.gob.mx/gobmx/salud/datos_abiertos/datos_abiertos_covid19.zip"
      ],
      "execution_count": null,
      "outputs": [
        {
          "output_type": "stream",
          "text": [
            "--2020-09-09 21:31:26--  http://datosabiertos.salud.gob.mx/gobmx/salud/datos_abiertos/datos_abiertos_covid19.zip\n",
            "Resolving datosabiertos.salud.gob.mx (datosabiertos.salud.gob.mx)... 187.210.186.146\n",
            "Connecting to datosabiertos.salud.gob.mx (datosabiertos.salud.gob.mx)|187.210.186.146|:80... connected.\n",
            "HTTP request sent, awaiting response... 200 OK\n",
            "Length: 30020764 (29M) [application/x-zip-compressed]\n",
            "Saving to: ‘datos_abiertos_covid19.zip’\n",
            "\n",
            "datos_abiertos_covi 100%[===================>]  28.63M  9.66MB/s    in 3.0s    \n",
            "\n",
            "2020-09-09 21:31:29 (9.66 MB/s) - ‘datos_abiertos_covid19.zip’ saved [30020764/30020764]\n",
            "\n"
          ],
          "name": "stdout"
        }
      ]
    },
    {
      "cell_type": "code",
      "metadata": {
        "id": "sIimNl6Oym9G",
        "colab_type": "code",
        "colab": {}
      },
      "source": [
        "import statistics\n",
        "\n",
        "import pandas as pd\n",
        "import numpy as np"
      ],
      "execution_count": 6,
      "outputs": []
    },
    {
      "cell_type": "code",
      "metadata": {
        "id": "S4xrRb93zgeb",
        "colab_type": "code",
        "colab": {}
      },
      "source": [
        "# Especificamos el nombre del archivo por abrir\n",
        "archivo = 'COVID19MEXICO.csv'\n",
        "\n",
        "# Utilizamos la función de Pandas para cargar un archivo CSV\n",
        "data = pd.read_csv(archivo, encoding='latin-1')"
      ],
      "execution_count": 11,
      "outputs": []
    },
    {
      "cell_type": "code",
      "metadata": {
        "id": "Hh7UmOl60_pb",
        "colab_type": "code",
        "colab": {
          "base_uri": "https://localhost:8080/",
          "height": 309
        },
        "outputId": "a8d2e646-0317-4939-bdd1-265594105f27"
      },
      "source": [
        "data.head()\n"
      ],
      "execution_count": 12,
      "outputs": [
        {
          "output_type": "execute_result",
          "data": {
            "text/html": [
              "<div>\n",
              "<style scoped>\n",
              "    .dataframe tbody tr th:only-of-type {\n",
              "        vertical-align: middle;\n",
              "    }\n",
              "\n",
              "    .dataframe tbody tr th {\n",
              "        vertical-align: top;\n",
              "    }\n",
              "\n",
              "    .dataframe thead th {\n",
              "        text-align: right;\n",
              "    }\n",
              "</style>\n",
              "<table border=\"1\" class=\"dataframe\">\n",
              "  <thead>\n",
              "    <tr style=\"text-align: right;\">\n",
              "      <th></th>\n",
              "      <th>FECHA_ACTUALIZACION</th>\n",
              "      <th>ID_REGISTRO</th>\n",
              "      <th>ORIGEN</th>\n",
              "      <th>SECTOR</th>\n",
              "      <th>ENTIDAD_UM</th>\n",
              "      <th>SEXO</th>\n",
              "      <th>ENTIDAD_NAC</th>\n",
              "      <th>ENTIDAD_RES</th>\n",
              "      <th>MUNICIPIO_RES</th>\n",
              "      <th>TIPO_PACIENTE</th>\n",
              "      <th>FECHA_INGRESO</th>\n",
              "      <th>FECHA_SINTOMAS</th>\n",
              "      <th>FECHA_DEF</th>\n",
              "      <th>INTUBADO</th>\n",
              "      <th>NEUMONIA</th>\n",
              "      <th>EDAD</th>\n",
              "      <th>NACIONALIDAD</th>\n",
              "      <th>EMBARAZO</th>\n",
              "      <th>HABLA_LENGUA_INDIG</th>\n",
              "      <th>DIABETES</th>\n",
              "      <th>EPOC</th>\n",
              "      <th>ASMA</th>\n",
              "      <th>INMUSUPR</th>\n",
              "      <th>HIPERTENSION</th>\n",
              "      <th>OTRA_COM</th>\n",
              "      <th>CARDIOVASCULAR</th>\n",
              "      <th>OBESIDAD</th>\n",
              "      <th>RENAL_CRONICA</th>\n",
              "      <th>TABAQUISMO</th>\n",
              "      <th>OTRO_CASO</th>\n",
              "      <th>RESULTADO</th>\n",
              "      <th>MIGRANTE</th>\n",
              "      <th>PAIS_NACIONALIDAD</th>\n",
              "      <th>PAIS_ORIGEN</th>\n",
              "      <th>UCI</th>\n",
              "    </tr>\n",
              "  </thead>\n",
              "  <tbody>\n",
              "    <tr>\n",
              "      <th>0</th>\n",
              "      <td>2020-09-08</td>\n",
              "      <td>1413b4</td>\n",
              "      <td>2</td>\n",
              "      <td>4</td>\n",
              "      <td>25</td>\n",
              "      <td>1</td>\n",
              "      <td>25</td>\n",
              "      <td>25</td>\n",
              "      <td>6</td>\n",
              "      <td>1</td>\n",
              "      <td>2020-04-29</td>\n",
              "      <td>2020-04-24</td>\n",
              "      <td>9999-99-99</td>\n",
              "      <td>97</td>\n",
              "      <td>2</td>\n",
              "      <td>38</td>\n",
              "      <td>1</td>\n",
              "      <td>2</td>\n",
              "      <td>2</td>\n",
              "      <td>2</td>\n",
              "      <td>2</td>\n",
              "      <td>2</td>\n",
              "      <td>2</td>\n",
              "      <td>2</td>\n",
              "      <td>2</td>\n",
              "      <td>2</td>\n",
              "      <td>2</td>\n",
              "      <td>2</td>\n",
              "      <td>2</td>\n",
              "      <td>1</td>\n",
              "      <td>1</td>\n",
              "      <td>99</td>\n",
              "      <td>MÃ©xico</td>\n",
              "      <td>99</td>\n",
              "      <td>97</td>\n",
              "    </tr>\n",
              "    <tr>\n",
              "      <th>1</th>\n",
              "      <td>2020-09-08</td>\n",
              "      <td>18f860</td>\n",
              "      <td>2</td>\n",
              "      <td>3</td>\n",
              "      <td>2</td>\n",
              "      <td>1</td>\n",
              "      <td>2</td>\n",
              "      <td>2</td>\n",
              "      <td>2</td>\n",
              "      <td>2</td>\n",
              "      <td>2020-05-27</td>\n",
              "      <td>2020-05-27</td>\n",
              "      <td>9999-99-99</td>\n",
              "      <td>2</td>\n",
              "      <td>1</td>\n",
              "      <td>59</td>\n",
              "      <td>1</td>\n",
              "      <td>2</td>\n",
              "      <td>2</td>\n",
              "      <td>1</td>\n",
              "      <td>2</td>\n",
              "      <td>2</td>\n",
              "      <td>2</td>\n",
              "      <td>2</td>\n",
              "      <td>2</td>\n",
              "      <td>2</td>\n",
              "      <td>2</td>\n",
              "      <td>2</td>\n",
              "      <td>2</td>\n",
              "      <td>1</td>\n",
              "      <td>1</td>\n",
              "      <td>99</td>\n",
              "      <td>MÃ©xico</td>\n",
              "      <td>99</td>\n",
              "      <td>2</td>\n",
              "    </tr>\n",
              "    <tr>\n",
              "      <th>2</th>\n",
              "      <td>2020-09-08</td>\n",
              "      <td>1057de</td>\n",
              "      <td>2</td>\n",
              "      <td>3</td>\n",
              "      <td>15</td>\n",
              "      <td>2</td>\n",
              "      <td>15</td>\n",
              "      <td>15</td>\n",
              "      <td>33</td>\n",
              "      <td>1</td>\n",
              "      <td>2020-06-19</td>\n",
              "      <td>2020-06-16</td>\n",
              "      <td>9999-99-99</td>\n",
              "      <td>97</td>\n",
              "      <td>2</td>\n",
              "      <td>33</td>\n",
              "      <td>1</td>\n",
              "      <td>97</td>\n",
              "      <td>2</td>\n",
              "      <td>2</td>\n",
              "      <td>2</td>\n",
              "      <td>2</td>\n",
              "      <td>2</td>\n",
              "      <td>2</td>\n",
              "      <td>2</td>\n",
              "      <td>2</td>\n",
              "      <td>2</td>\n",
              "      <td>2</td>\n",
              "      <td>2</td>\n",
              "      <td>1</td>\n",
              "      <td>1</td>\n",
              "      <td>99</td>\n",
              "      <td>MÃ©xico</td>\n",
              "      <td>99</td>\n",
              "      <td>97</td>\n",
              "    </tr>\n",
              "    <tr>\n",
              "      <th>3</th>\n",
              "      <td>2020-09-08</td>\n",
              "      <td>18ae31</td>\n",
              "      <td>2</td>\n",
              "      <td>4</td>\n",
              "      <td>15</td>\n",
              "      <td>1</td>\n",
              "      <td>15</td>\n",
              "      <td>15</td>\n",
              "      <td>58</td>\n",
              "      <td>1</td>\n",
              "      <td>2020-04-20</td>\n",
              "      <td>2020-04-15</td>\n",
              "      <td>9999-99-99</td>\n",
              "      <td>97</td>\n",
              "      <td>2</td>\n",
              "      <td>34</td>\n",
              "      <td>1</td>\n",
              "      <td>2</td>\n",
              "      <td>2</td>\n",
              "      <td>2</td>\n",
              "      <td>2</td>\n",
              "      <td>2</td>\n",
              "      <td>2</td>\n",
              "      <td>2</td>\n",
              "      <td>2</td>\n",
              "      <td>2</td>\n",
              "      <td>2</td>\n",
              "      <td>2</td>\n",
              "      <td>2</td>\n",
              "      <td>99</td>\n",
              "      <td>1</td>\n",
              "      <td>99</td>\n",
              "      <td>MÃ©xico</td>\n",
              "      <td>99</td>\n",
              "      <td>97</td>\n",
              "    </tr>\n",
              "    <tr>\n",
              "      <th>4</th>\n",
              "      <td>2020-09-08</td>\n",
              "      <td>02d970</td>\n",
              "      <td>2</td>\n",
              "      <td>4</td>\n",
              "      <td>13</td>\n",
              "      <td>2</td>\n",
              "      <td>13</td>\n",
              "      <td>13</td>\n",
              "      <td>76</td>\n",
              "      <td>2</td>\n",
              "      <td>2020-04-27</td>\n",
              "      <td>2020-04-23</td>\n",
              "      <td>2020-04-27</td>\n",
              "      <td>2</td>\n",
              "      <td>2</td>\n",
              "      <td>61</td>\n",
              "      <td>1</td>\n",
              "      <td>97</td>\n",
              "      <td>2</td>\n",
              "      <td>2</td>\n",
              "      <td>1</td>\n",
              "      <td>2</td>\n",
              "      <td>2</td>\n",
              "      <td>1</td>\n",
              "      <td>2</td>\n",
              "      <td>2</td>\n",
              "      <td>2</td>\n",
              "      <td>2</td>\n",
              "      <td>2</td>\n",
              "      <td>99</td>\n",
              "      <td>1</td>\n",
              "      <td>99</td>\n",
              "      <td>MÃ©xico</td>\n",
              "      <td>99</td>\n",
              "      <td>2</td>\n",
              "    </tr>\n",
              "  </tbody>\n",
              "</table>\n",
              "</div>"
            ],
            "text/plain": [
              "  FECHA_ACTUALIZACION ID_REGISTRO  ORIGEN  ...  PAIS_NACIONALIDAD  PAIS_ORIGEN  UCI\n",
              "0          2020-09-08      1413b4       2  ...            MÃ©xico           99   97\n",
              "1          2020-09-08      18f860       2  ...            MÃ©xico           99    2\n",
              "2          2020-09-08      1057de       2  ...            MÃ©xico           99   97\n",
              "3          2020-09-08      18ae31       2  ...            MÃ©xico           99   97\n",
              "4          2020-09-08      02d970       2  ...            MÃ©xico           99    2\n",
              "\n",
              "[5 rows x 35 columns]"
            ]
          },
          "metadata": {
            "tags": []
          },
          "execution_count": 12
        }
      ]
    },
    {
      "cell_type": "code",
      "metadata": {
        "id": "mPoyDQDc1LHa",
        "colab_type": "code",
        "colab": {}
      },
      "source": [
        "# Cargar el archivo con los descriptores.\n",
        "nombre_diccionario = 'Descriptores_0419.xlsx'\n",
        "diccionario = pd.read_excel(nombre_diccionario)"
      ],
      "execution_count": 13,
      "outputs": []
    },
    {
      "cell_type": "code",
      "metadata": {
        "id": "uI-3hopl1U4z",
        "colab_type": "code",
        "colab": {
          "base_uri": "https://localhost:8080/",
          "height": 1000
        },
        "outputId": "c67a5bf9-10d4-42ed-ee64-c5c09968ade3"
      },
      "source": [
        "# Mostramos diccionario\n",
        "diccionario"
      ],
      "execution_count": 14,
      "outputs": [
        {
          "output_type": "execute_result",
          "data": {
            "text/html": [
              "<div>\n",
              "<style scoped>\n",
              "    .dataframe tbody tr th:only-of-type {\n",
              "        vertical-align: middle;\n",
              "    }\n",
              "\n",
              "    .dataframe tbody tr th {\n",
              "        vertical-align: top;\n",
              "    }\n",
              "\n",
              "    .dataframe thead th {\n",
              "        text-align: right;\n",
              "    }\n",
              "</style>\n",
              "<table border=\"1\" class=\"dataframe\">\n",
              "  <thead>\n",
              "    <tr style=\"text-align: right;\">\n",
              "      <th></th>\n",
              "      <th>Nº</th>\n",
              "      <th>NOMBRE DE VARIABLE</th>\n",
              "      <th>DESCRIPCIÓN DE VARIABLE</th>\n",
              "      <th>FORMATO O FUENTE</th>\n",
              "    </tr>\n",
              "  </thead>\n",
              "  <tbody>\n",
              "    <tr>\n",
              "      <th>0</th>\n",
              "      <td>1</td>\n",
              "      <td>FECHA_ACTUALIZACION</td>\n",
              "      <td>La base de datos se alimenta diariamente, esta...</td>\n",
              "      <td>AAAA-MM-DD</td>\n",
              "    </tr>\n",
              "    <tr>\n",
              "      <th>1</th>\n",
              "      <td>2</td>\n",
              "      <td>ID_REGISTRO</td>\n",
              "      <td>Número identificador del caso</td>\n",
              "      <td>TEXTO</td>\n",
              "    </tr>\n",
              "    <tr>\n",
              "      <th>2</th>\n",
              "      <td>3</td>\n",
              "      <td>ORIGEN</td>\n",
              "      <td>La vigilancia centinela se realiza a través de...</td>\n",
              "      <td>CATÁLOGO: ORIGEN                              ...</td>\n",
              "    </tr>\n",
              "    <tr>\n",
              "      <th>3</th>\n",
              "      <td>4</td>\n",
              "      <td>SECTOR</td>\n",
              "      <td>Identifica el tipo de institución del Sistema ...</td>\n",
              "      <td>CATÁLOGO: SECTOR                              ...</td>\n",
              "    </tr>\n",
              "    <tr>\n",
              "      <th>4</th>\n",
              "      <td>5</td>\n",
              "      <td>ENTIDAD_UM</td>\n",
              "      <td>Identifica la entidad donde se ubica la unidad...</td>\n",
              "      <td>CATALÓGO: ENTIDADES</td>\n",
              "    </tr>\n",
              "    <tr>\n",
              "      <th>5</th>\n",
              "      <td>6</td>\n",
              "      <td>SEXO</td>\n",
              "      <td>Identifica al sexo del paciente.</td>\n",
              "      <td>CATÁLOGO: SEXO</td>\n",
              "    </tr>\n",
              "    <tr>\n",
              "      <th>6</th>\n",
              "      <td>7</td>\n",
              "      <td>ENTIDAD_NAC</td>\n",
              "      <td>Identifica la entidad de nacimiento del paciente.</td>\n",
              "      <td>CATALÓGO: ENTIDADES</td>\n",
              "    </tr>\n",
              "    <tr>\n",
              "      <th>7</th>\n",
              "      <td>8</td>\n",
              "      <td>ENTIDAD_RES</td>\n",
              "      <td>Identifica la entidad de residencia del paciente.</td>\n",
              "      <td>CATALÓGO: ENTIDADES</td>\n",
              "    </tr>\n",
              "    <tr>\n",
              "      <th>8</th>\n",
              "      <td>9</td>\n",
              "      <td>MUNICIPIO_RES</td>\n",
              "      <td>Identifica el municipio de residencia del paci...</td>\n",
              "      <td>CATALÓGO: MUNICIPIOS</td>\n",
              "    </tr>\n",
              "    <tr>\n",
              "      <th>9</th>\n",
              "      <td>10</td>\n",
              "      <td>TIPO_PACIENTE</td>\n",
              "      <td>Identifica el tipo de atención que recibió el ...</td>\n",
              "      <td>CATÁLOGO: TIPO_PACIENTE</td>\n",
              "    </tr>\n",
              "    <tr>\n",
              "      <th>10</th>\n",
              "      <td>11</td>\n",
              "      <td>FECHA_INGRESO</td>\n",
              "      <td>Identifica la fecha de ingreso del paciente a ...</td>\n",
              "      <td>AAAA-MM-DD</td>\n",
              "    </tr>\n",
              "    <tr>\n",
              "      <th>11</th>\n",
              "      <td>12</td>\n",
              "      <td>FECHA_SINTOMAS</td>\n",
              "      <td>Idenitifica la fecha en que inició la sintomat...</td>\n",
              "      <td>AAAA-MM-DD</td>\n",
              "    </tr>\n",
              "    <tr>\n",
              "      <th>12</th>\n",
              "      <td>13</td>\n",
              "      <td>FECHA_DEF</td>\n",
              "      <td>Identifica la fecha en que el paciente falleció.</td>\n",
              "      <td>AAAA-MM-DD</td>\n",
              "    </tr>\n",
              "    <tr>\n",
              "      <th>13</th>\n",
              "      <td>14</td>\n",
              "      <td>INTUBADO</td>\n",
              "      <td>Identifica si el paciente requirió de intubación.</td>\n",
              "      <td>CATÁLOGO: SI_ NO                              ...</td>\n",
              "    </tr>\n",
              "    <tr>\n",
              "      <th>14</th>\n",
              "      <td>15</td>\n",
              "      <td>NEUMONIA</td>\n",
              "      <td>Identifica si al paciente se le diagnosticó co...</td>\n",
              "      <td>CATÁLOGO: SI_ NO                              ...</td>\n",
              "    </tr>\n",
              "    <tr>\n",
              "      <th>15</th>\n",
              "      <td>16</td>\n",
              "      <td>EDAD</td>\n",
              "      <td>Identifica la edad del paciente.</td>\n",
              "      <td>NÚMERICA EN AÑOS</td>\n",
              "    </tr>\n",
              "    <tr>\n",
              "      <th>16</th>\n",
              "      <td>17</td>\n",
              "      <td>NACIONALIDAD</td>\n",
              "      <td>Identifica si el paciente es mexicano o extran...</td>\n",
              "      <td>CATÁLOGO: NACIONALIDAD</td>\n",
              "    </tr>\n",
              "    <tr>\n",
              "      <th>17</th>\n",
              "      <td>18</td>\n",
              "      <td>EMBARAZO</td>\n",
              "      <td>Identifica si la paciente está embarazada.</td>\n",
              "      <td>CATÁLOGO: SI_ NO                              ...</td>\n",
              "    </tr>\n",
              "    <tr>\n",
              "      <th>18</th>\n",
              "      <td>19</td>\n",
              "      <td>HABLA_LENGUA_INDIG</td>\n",
              "      <td>Identifica si el paciente habla lengua índigena.</td>\n",
              "      <td>CATÁLOGO: SI_ NO                              ...</td>\n",
              "    </tr>\n",
              "    <tr>\n",
              "      <th>19</th>\n",
              "      <td>20</td>\n",
              "      <td>DIABETES</td>\n",
              "      <td>Identifica si el paciente tiene un diagnóstico...</td>\n",
              "      <td>CATÁLOGO: SI_ NO                              ...</td>\n",
              "    </tr>\n",
              "    <tr>\n",
              "      <th>20</th>\n",
              "      <td>21</td>\n",
              "      <td>EPOC</td>\n",
              "      <td>Identifica si el paciente tiene un diagnóstico...</td>\n",
              "      <td>CATÁLOGO: SI_ NO                              ...</td>\n",
              "    </tr>\n",
              "    <tr>\n",
              "      <th>21</th>\n",
              "      <td>22</td>\n",
              "      <td>ASMA</td>\n",
              "      <td>Identifica si el paciente tiene un diagnóstico...</td>\n",
              "      <td>CATÁLOGO: SI_ NO                              ...</td>\n",
              "    </tr>\n",
              "    <tr>\n",
              "      <th>22</th>\n",
              "      <td>23</td>\n",
              "      <td>INMUSUPR</td>\n",
              "      <td>Identifica si el paciente presenta inmunosupre...</td>\n",
              "      <td>CATÁLOGO: SI_ NO                              ...</td>\n",
              "    </tr>\n",
              "    <tr>\n",
              "      <th>23</th>\n",
              "      <td>24</td>\n",
              "      <td>HIPERTENSION</td>\n",
              "      <td>Identifica si el paciente tiene un diagnóstico...</td>\n",
              "      <td>CATÁLOGO: SI_ NO                              ...</td>\n",
              "    </tr>\n",
              "    <tr>\n",
              "      <th>24</th>\n",
              "      <td>25</td>\n",
              "      <td>OTRAS_COM</td>\n",
              "      <td>Identifica si el paciente tiene diagnóstico de...</td>\n",
              "      <td>CATÁLOGO: SI_ NO                              ...</td>\n",
              "    </tr>\n",
              "    <tr>\n",
              "      <th>25</th>\n",
              "      <td>26</td>\n",
              "      <td>CARDIOVASCULAR</td>\n",
              "      <td>Identifica si el paciente tiene un diagnóstico...</td>\n",
              "      <td>CATÁLOGO: SI_ NO                              ...</td>\n",
              "    </tr>\n",
              "    <tr>\n",
              "      <th>26</th>\n",
              "      <td>27</td>\n",
              "      <td>OBESIDAD</td>\n",
              "      <td>Identifica si el paciente tiene diagnóstico de...</td>\n",
              "      <td>CATÁLOGO: SI_ NO                              ...</td>\n",
              "    </tr>\n",
              "    <tr>\n",
              "      <th>27</th>\n",
              "      <td>28</td>\n",
              "      <td>RENAL_CRONICA</td>\n",
              "      <td>Identifica si el paciente tiene diagnóstico de...</td>\n",
              "      <td>CATÁLOGO: SI_ NO                              ...</td>\n",
              "    </tr>\n",
              "    <tr>\n",
              "      <th>28</th>\n",
              "      <td>29</td>\n",
              "      <td>TABAQUISMO</td>\n",
              "      <td>Identifica si el paciente tiene hábito de taba...</td>\n",
              "      <td>CATÁLOGO: SI_ NO                              ...</td>\n",
              "    </tr>\n",
              "    <tr>\n",
              "      <th>29</th>\n",
              "      <td>30</td>\n",
              "      <td>OTRO_CASO</td>\n",
              "      <td>Identifica si el paciente tuvo contacto con al...</td>\n",
              "      <td>CATÁLOGO: SI_ NO                              ...</td>\n",
              "    </tr>\n",
              "    <tr>\n",
              "      <th>30</th>\n",
              "      <td>31</td>\n",
              "      <td>RESULTADO</td>\n",
              "      <td>Identifica el resultado del análisis de la mue...</td>\n",
              "      <td>CATÁLOGO: RESULTADO</td>\n",
              "    </tr>\n",
              "    <tr>\n",
              "      <th>31</th>\n",
              "      <td>32</td>\n",
              "      <td>MIGRANTE</td>\n",
              "      <td>Identifica si el paciente es una persona migra...</td>\n",
              "      <td>CATÁLOGO: SI_ NO                              ...</td>\n",
              "    </tr>\n",
              "    <tr>\n",
              "      <th>32</th>\n",
              "      <td>33</td>\n",
              "      <td>PAIS_NACIONALIDAD</td>\n",
              "      <td>Identifica la nacionalidad del paciente.</td>\n",
              "      <td>TEXTO, 99= SE IGNORA</td>\n",
              "    </tr>\n",
              "    <tr>\n",
              "      <th>33</th>\n",
              "      <td>34</td>\n",
              "      <td>PAIS_ORIGEN</td>\n",
              "      <td>Identifica el país del que partió el paciente ...</td>\n",
              "      <td>TEXTO, 97= NO APLICA</td>\n",
              "    </tr>\n",
              "    <tr>\n",
              "      <th>34</th>\n",
              "      <td>35</td>\n",
              "      <td>UCI</td>\n",
              "      <td>Identifica si el paciente requirió ingresar a ...</td>\n",
              "      <td>CATÁLOGO: SI_ NO                              ...</td>\n",
              "    </tr>\n",
              "  </tbody>\n",
              "</table>\n",
              "</div>"
            ],
            "text/plain": [
              "    Nº  ...                                   FORMATO O FUENTE\n",
              "0    1  ...                                         AAAA-MM-DD\n",
              "1    2  ...                                             TEXTO \n",
              "2    3  ...  CATÁLOGO: ORIGEN                              ...\n",
              "3    4  ...  CATÁLOGO: SECTOR                              ...\n",
              "4    5  ...                                CATALÓGO: ENTIDADES\n",
              "5    6  ...       CATÁLOGO: SEXO                              \n",
              "6    7  ...                                CATALÓGO: ENTIDADES\n",
              "7    8  ...                                CATALÓGO: ENTIDADES\n",
              "8    9  ...                               CATALÓGO: MUNICIPIOS\n",
              "9   10  ...                           CATÁLOGO: TIPO_PACIENTE \n",
              "10  11  ...                                         AAAA-MM-DD\n",
              "11  12  ...                                         AAAA-MM-DD\n",
              "12  13  ...                                         AAAA-MM-DD\n",
              "13  14  ...  CATÁLOGO: SI_ NO                              ...\n",
              "14  15  ...  CATÁLOGO: SI_ NO                              ...\n",
              "15  16  ...                                   NÚMERICA EN AÑOS\n",
              "16  17  ...                            CATÁLOGO: NACIONALIDAD \n",
              "17  18  ...  CATÁLOGO: SI_ NO                              ...\n",
              "18  19  ...  CATÁLOGO: SI_ NO                              ...\n",
              "19  20  ...  CATÁLOGO: SI_ NO                              ...\n",
              "20  21  ...  CATÁLOGO: SI_ NO                              ...\n",
              "21  22  ...  CATÁLOGO: SI_ NO                              ...\n",
              "22  23  ...  CATÁLOGO: SI_ NO                              ...\n",
              "23  24  ...  CATÁLOGO: SI_ NO                              ...\n",
              "24  25  ...  CATÁLOGO: SI_ NO                              ...\n",
              "25  26  ...  CATÁLOGO: SI_ NO                              ...\n",
              "26  27  ...  CATÁLOGO: SI_ NO                              ...\n",
              "27  28  ...  CATÁLOGO: SI_ NO                              ...\n",
              "28  29  ...  CATÁLOGO: SI_ NO                              ...\n",
              "29  30  ...  CATÁLOGO: SI_ NO                              ...\n",
              "30  31  ...                                CATÁLOGO: RESULTADO\n",
              "31  32  ...  CATÁLOGO: SI_ NO                              ...\n",
              "32  33  ...                               TEXTO, 99= SE IGNORA\n",
              "33  34  ...                               TEXTO, 97= NO APLICA\n",
              "34  35  ...  CATÁLOGO: SI_ NO                              ...\n",
              "\n",
              "[35 rows x 4 columns]"
            ]
          },
          "metadata": {
            "tags": []
          },
          "execution_count": 14
        }
      ]
    },
    {
      "cell_type": "code",
      "metadata": {
        "id": "NUCiXwIo1bug",
        "colab_type": "code",
        "colab": {}
      },
      "source": [
        "# Cargamos archivo de catalogos\n",
        "nombre_cat = 'Catalogos_0412.xlsx'\n",
        "sheets = ['ORIGEN', 'SECTOR', 'SEXO', 'TIPO_PACIENTE', 'SI_NO', 'NACIONALIDAD', 'RESULTADO', 'de ENTIDADES', 'MUNICIPIOS']\n",
        "catalogues = {}\n",
        "for sheet in sheets:\n",
        "  catalogue = pd.read_excel(nombre_cat, sheet_name='Catálogo ' + sheet)\n",
        "  catalogue.columns = catalogue.columns.str.replace(' ', '_')\n",
        "  catalogue.columns = catalogue.columns.str.replace('.', '')\n",
        "  catalogue.columns = catalogue.columns.str.lower()\n",
        "  new_catalogue = {sheet: catalogue}\n",
        "  catalogues.update(new_catalogue)"
      ],
      "execution_count": 16,
      "outputs": []
    },
    {
      "cell_type": "code",
      "metadata": {
        "id": "dVmm2BWo1wlm",
        "colab_type": "code",
        "colab": {
          "base_uri": "https://localhost:8080/",
          "height": 1000
        },
        "outputId": "6f64f329-228b-4400-d72e-1b433c58e841"
      },
      "source": [
        "# Mostramos cátalogos\n",
        "catalogues"
      ],
      "execution_count": 17,
      "outputs": [
        {
          "output_type": "execute_result",
          "data": {
            "text/plain": [
              "{'MUNICIPIOS':       clave_municipio        municipio  clave_entidad\n",
              " 0                   1   AGUASCALIENTES              1\n",
              " 1                   2         ASIENTOS              1\n",
              " 2                   3         CALVILLO              1\n",
              " 3                   4            COSÍO              1\n",
              " 4                   5      JESÚS MARÍA              1\n",
              " ...               ...              ...            ...\n",
              " 2496              999  NO ESPECIFICADO             32\n",
              " 2497              999  NO ESPECIFICADO             36\n",
              " 2498              997        NO APLICA             97\n",
              " 2499              998        SE IGNORA             98\n",
              " 2500              999  NO ESPECIFICADO             99\n",
              " \n",
              " [2501 rows x 3 columns], 'NACIONALIDAD':    clave      descripción\n",
              " 0      1         MEXICANA\n",
              " 1      2       EXTRANJERA\n",
              " 2     99  NO ESPECIFICADO, 'ORIGEN':    clave      descripción\n",
              " 0      1            USMER\n",
              " 1      2   FUERA DE USMER\n",
              " 2     99  NO ESPECIFICADO, 'RESULTADO':   unnamed:_0              unnamed:_1\n",
              " 0      CLAVE             DESCRIPCIÓN\n",
              " 1          1     Positivo SARS-CoV-2\n",
              " 2          2  No positivo SARS-CoV-2\n",
              " 3          3     Resultado pendiente, 'SECTOR':     clave      descripción\n",
              " 0       1        CRUZ ROJA\n",
              " 1       2              DIF\n",
              " 2       3          ESTATAL\n",
              " 3       4             IMSS\n",
              " 4       5   IMSS-BIENESTAR\n",
              " 5       6           ISSSTE\n",
              " 6       7        MUNICIPAL\n",
              " 7       8            PEMEX\n",
              " 8       9          PRIVADA\n",
              " 9      10           SEDENA\n",
              " 10     11            SEMAR\n",
              " 11     12              SSA\n",
              " 12     13    UNIVERSITARIO\n",
              " 13     99  NO ESPECIFICADO, 'SEXO':    clave      descripción\n",
              " 0      1            MUJER\n",
              " 1      2           HOMBRE\n",
              " 2     99  NO ESPECIFICADO, 'SI_NO':    clave      descripción\n",
              " 0      1              SI \n",
              " 1      2              NO \n",
              " 2     97        NO APLICA\n",
              " 3     98        SE IGNORA\n",
              " 4     99  NO ESPECIFICADO, 'TIPO_PACIENTE':    clave      descripción\n",
              " 0      1      AMBULATORIO\n",
              " 1      2    HOSPITALIZADO\n",
              " 2     99  NO ESPECIFICADO, 'de ENTIDADES':     clave_entidad               entidad_federativa abreviatura\n",
              " 0               1                   AGUASCALIENTES          AS\n",
              " 1               2                  BAJA CALIFORNIA          BC\n",
              " 2               3              BAJA CALIFORNIA SUR          BS\n",
              " 3               4                         CAMPECHE          CC\n",
              " 4               5             COAHUILA DE ZARAGOZA          CL\n",
              " 5               6                           COLIMA          CM\n",
              " 6               7                          CHIAPAS          CS\n",
              " 7               8                        CHIHUAHUA          CH\n",
              " 8               9                 CIUDAD DE MÉXICO          DF\n",
              " 9              10                          DURANGO          DG\n",
              " 10             11                       GUANAJUATO          GT\n",
              " 11             12                         GUERRERO          GR\n",
              " 12             13                          HIDALGO          HG\n",
              " 13             14                          JALISCO          JC\n",
              " 14             15                           MÉXICO          MC\n",
              " 15             16              MICHOACÁN DE OCAMPO          MN\n",
              " 16             17                          MORELOS          MS\n",
              " 17             18                          NAYARIT          NT\n",
              " 18             19                       NUEVO LEÓN          NL\n",
              " 19             20                           OAXACA          OC\n",
              " 20             21                           PUEBLA          PL\n",
              " 21             22                        QUERÉTARO          QT\n",
              " 22             23                     QUINTANA ROO          QR\n",
              " 23             24                  SAN LUIS POTOSÍ          SP\n",
              " 24             25                          SINALOA          SL\n",
              " 25             26                           SONORA          SR\n",
              " 26             27                          TABASCO          TC\n",
              " 27             28                       TAMAULIPAS          TS\n",
              " 28             29                         TLAXCALA          TL\n",
              " 29             30  VERACRUZ DE IGNACIO DE LA LLAVE          VZ\n",
              " 30             31                          YUCATÁN          YN\n",
              " 31             32                        ZACATECAS          ZS\n",
              " 32             36         ESTADOS UNIDOS MEXICANOS         EUM\n",
              " 33             97                        NO APLICA         NaN\n",
              " 34             98                        SE IGNORA          SI\n",
              " 35             99                  NO ESPECIFICADO          NE}"
            ]
          },
          "metadata": {
            "tags": []
          },
          "execution_count": 17
        }
      ]
    },
    {
      "cell_type": "code",
      "metadata": {
        "id": "PTEeBTgB2Cpg",
        "colab_type": "code",
        "colab": {
          "base_uri": "https://localhost:8080/",
          "height": 142
        },
        "outputId": "4ba435be-2f5b-40de-c5c0-98fde2295282"
      },
      "source": [
        "# Ejemplo de un catalgo\n",
        "catalogues['SEXO']\n"
      ],
      "execution_count": 18,
      "outputs": [
        {
          "output_type": "execute_result",
          "data": {
            "text/html": [
              "<div>\n",
              "<style scoped>\n",
              "    .dataframe tbody tr th:only-of-type {\n",
              "        vertical-align: middle;\n",
              "    }\n",
              "\n",
              "    .dataframe tbody tr th {\n",
              "        vertical-align: top;\n",
              "    }\n",
              "\n",
              "    .dataframe thead th {\n",
              "        text-align: right;\n",
              "    }\n",
              "</style>\n",
              "<table border=\"1\" class=\"dataframe\">\n",
              "  <thead>\n",
              "    <tr style=\"text-align: right;\">\n",
              "      <th></th>\n",
              "      <th>clave</th>\n",
              "      <th>descripción</th>\n",
              "    </tr>\n",
              "  </thead>\n",
              "  <tbody>\n",
              "    <tr>\n",
              "      <th>0</th>\n",
              "      <td>1</td>\n",
              "      <td>MUJER</td>\n",
              "    </tr>\n",
              "    <tr>\n",
              "      <th>1</th>\n",
              "      <td>2</td>\n",
              "      <td>HOMBRE</td>\n",
              "    </tr>\n",
              "    <tr>\n",
              "      <th>2</th>\n",
              "      <td>99</td>\n",
              "      <td>NO ESPECIFICADO</td>\n",
              "    </tr>\n",
              "  </tbody>\n",
              "</table>\n",
              "</div>"
            ],
            "text/plain": [
              "   clave      descripción\n",
              "0      1            MUJER\n",
              "1      2           HOMBRE\n",
              "2     99  NO ESPECIFICADO"
            ]
          },
          "metadata": {
            "tags": []
          },
          "execution_count": 18
        }
      ]
    },
    {
      "cell_type": "markdown",
      "metadata": {
        "id": "EYnInElj2pPu",
        "colab_type": "text"
      },
      "source": [
        "## **Perfilamiento**\n",
        "**Descripción General**\n"
      ]
    },
    {
      "cell_type": "code",
      "metadata": {
        "id": "_HuF3cAL2614",
        "colab_type": "code",
        "colab": {
          "base_uri": "https://localhost:8080/",
          "height": 51
        },
        "outputId": "85d08206-22ca-4c4b-9d3b-9082b7c39910"
      },
      "source": [
        "# dimensión de los datos\n",
        "print('Número de filas: {}'.format(data.shape[0]))\n",
        "print('Número de columnas: {}'.format(data.shape[1]))"
      ],
      "execution_count": 19,
      "outputs": [
        {
          "output_type": "stream",
          "text": [
            "Número de filas: 1450397\n",
            "Número de columnas: 35\n"
          ],
          "name": "stdout"
        }
      ]
    },
    {
      "cell_type": "code",
      "metadata": {
        "id": "Z3CpIrlo291f",
        "colab_type": "code",
        "colab": {
          "base_uri": "https://localhost:8080/",
          "height": 170
        },
        "outputId": "829f32b2-937a-42d8-f6cf-13791ad30f7a"
      },
      "source": [
        "# columnas (variables)\n",
        "data.columns"
      ],
      "execution_count": 20,
      "outputs": [
        {
          "output_type": "execute_result",
          "data": {
            "text/plain": [
              "Index(['FECHA_ACTUALIZACION', 'ID_REGISTRO', 'ORIGEN', 'SECTOR', 'ENTIDAD_UM',\n",
              "       'SEXO', 'ENTIDAD_NAC', 'ENTIDAD_RES', 'MUNICIPIO_RES', 'TIPO_PACIENTE',\n",
              "       'FECHA_INGRESO', 'FECHA_SINTOMAS', 'FECHA_DEF', 'INTUBADO', 'NEUMONIA',\n",
              "       'EDAD', 'NACIONALIDAD', 'EMBARAZO', 'HABLA_LENGUA_INDIG', 'DIABETES',\n",
              "       'EPOC', 'ASMA', 'INMUSUPR', 'HIPERTENSION', 'OTRA_COM',\n",
              "       'CARDIOVASCULAR', 'OBESIDAD', 'RENAL_CRONICA', 'TABAQUISMO',\n",
              "       'OTRO_CASO', 'RESULTADO', 'MIGRANTE', 'PAIS_NACIONALIDAD',\n",
              "       'PAIS_ORIGEN', 'UCI'],\n",
              "      dtype='object')"
            ]
          },
          "metadata": {
            "tags": []
          },
          "execution_count": 20
        }
      ]
    },
    {
      "cell_type": "code",
      "metadata": {
        "id": "08JrxDPI3DFD",
        "colab_type": "code",
        "colab": {}
      },
      "source": [
        "# limpieza del nombre de las columnas, remover espacios, carácteres especiales y pasar a minúsculas\n",
        "data.columns = data.columns.str.replace(' ', '_')\n",
        "data.columns = data.columns.str.replace('.', '')\n",
        "data.columns = data.columns.str.lower()"
      ],
      "execution_count": 22,
      "outputs": []
    },
    {
      "cell_type": "code",
      "metadata": {
        "id": "vfVhjaYP3Hkk",
        "colab_type": "code",
        "colab": {
          "base_uri": "https://localhost:8080/",
          "height": 612
        },
        "outputId": "17398342-0f28-48f4-cbd9-b988ad27d09a"
      },
      "source": [
        "# calcular número de valores nulos por columna\n",
        "for col in data.columns:\n",
        "  print('Valores nulos en \"{}\": {}'.format(col,data[col].isna().sum()))"
      ],
      "execution_count": 23,
      "outputs": [
        {
          "output_type": "stream",
          "text": [
            "Valores nulos en \"fecha_actualizacion\": 0\n",
            "Valores nulos en \"id_registro\": 0\n",
            "Valores nulos en \"origen\": 0\n",
            "Valores nulos en \"sector\": 0\n",
            "Valores nulos en \"entidad_um\": 0\n",
            "Valores nulos en \"sexo\": 0\n",
            "Valores nulos en \"entidad_nac\": 0\n",
            "Valores nulos en \"entidad_res\": 0\n",
            "Valores nulos en \"municipio_res\": 0\n",
            "Valores nulos en \"tipo_paciente\": 0\n",
            "Valores nulos en \"fecha_ingreso\": 0\n",
            "Valores nulos en \"fecha_sintomas\": 0\n",
            "Valores nulos en \"fecha_def\": 0\n",
            "Valores nulos en \"intubado\": 0\n",
            "Valores nulos en \"neumonia\": 0\n",
            "Valores nulos en \"edad\": 0\n",
            "Valores nulos en \"nacionalidad\": 0\n",
            "Valores nulos en \"embarazo\": 0\n",
            "Valores nulos en \"habla_lengua_indig\": 0\n",
            "Valores nulos en \"diabetes\": 0\n",
            "Valores nulos en \"epoc\": 0\n",
            "Valores nulos en \"asma\": 0\n",
            "Valores nulos en \"inmusupr\": 0\n",
            "Valores nulos en \"hipertension\": 0\n",
            "Valores nulos en \"otra_com\": 0\n",
            "Valores nulos en \"cardiovascular\": 0\n",
            "Valores nulos en \"obesidad\": 0\n",
            "Valores nulos en \"renal_cronica\": 0\n",
            "Valores nulos en \"tabaquismo\": 0\n",
            "Valores nulos en \"otro_caso\": 0\n",
            "Valores nulos en \"resultado\": 0\n",
            "Valores nulos en \"migrante\": 0\n",
            "Valores nulos en \"pais_nacionalidad\": 0\n",
            "Valores nulos en \"pais_origen\": 0\n",
            "Valores nulos en \"uci\": 0\n"
          ],
          "name": "stdout"
        }
      ]
    },
    {
      "cell_type": "code",
      "metadata": {
        "id": "1AX0p1to3L5R",
        "colab_type": "code",
        "colab": {
          "base_uri": "https://localhost:8080/",
          "height": 629
        },
        "outputId": "f92059d2-c8b4-453f-b34a-321b9e27e916"
      },
      "source": [
        "# tipos de datos\n",
        "data.dtypes"
      ],
      "execution_count": 24,
      "outputs": [
        {
          "output_type": "execute_result",
          "data": {
            "text/plain": [
              "fecha_actualizacion    object\n",
              "id_registro            object\n",
              "origen                  int64\n",
              "sector                  int64\n",
              "entidad_um              int64\n",
              "sexo                    int64\n",
              "entidad_nac             int64\n",
              "entidad_res             int64\n",
              "municipio_res           int64\n",
              "tipo_paciente           int64\n",
              "fecha_ingreso          object\n",
              "fecha_sintomas         object\n",
              "fecha_def              object\n",
              "intubado                int64\n",
              "neumonia                int64\n",
              "edad                    int64\n",
              "nacionalidad            int64\n",
              "embarazo                int64\n",
              "habla_lengua_indig      int64\n",
              "diabetes                int64\n",
              "epoc                    int64\n",
              "asma                    int64\n",
              "inmusupr                int64\n",
              "hipertension            int64\n",
              "otra_com                int64\n",
              "cardiovascular          int64\n",
              "obesidad                int64\n",
              "renal_cronica           int64\n",
              "tabaquismo              int64\n",
              "otro_caso               int64\n",
              "resultado               int64\n",
              "migrante                int64\n",
              "pais_nacionalidad      object\n",
              "pais_origen            object\n",
              "uci                     int64\n",
              "dtype: object"
            ]
          },
          "metadata": {
            "tags": []
          },
          "execution_count": 24
        }
      ]
    },
    {
      "cell_type": "markdown",
      "metadata": {
        "id": "1i_mvias3PYa",
        "colab_type": "text"
      },
      "source": [
        "**Limpieza**"
      ]
    },
    {
      "cell_type": "code",
      "metadata": {
        "id": "mrWF1XZR3SDe",
        "colab_type": "code",
        "colab": {}
      },
      "source": [
        "# convertimos a fecha algunas columnas\n",
        "def cast_datetime_cols(df):\n",
        "    timestamp_cols = [col for col in df.columns if \"fecha\" in col]\n",
        "    df[timestamp_cols] = df[timestamp_cols].apply(lambda date_col: pd.to_datetime(date_col, errors=\"coerce\"), axis=0)\n",
        "    return df\n",
        "\n",
        "data = cast_datetime_cols(data)"
      ],
      "execution_count": 25,
      "outputs": []
    },
    {
      "cell_type": "code",
      "metadata": {
        "id": "MimYZ8Eu3YgX",
        "colab_type": "code",
        "colab": {
          "base_uri": "https://localhost:8080/",
          "height": 241
        },
        "outputId": "a6e9fe43-2d32-4f69-c295-a2b1f2a47fe5"
      },
      "source": [
        "\n",
        "data.head()"
      ],
      "execution_count": 26,
      "outputs": [
        {
          "output_type": "execute_result",
          "data": {
            "text/html": [
              "<div>\n",
              "<style scoped>\n",
              "    .dataframe tbody tr th:only-of-type {\n",
              "        vertical-align: middle;\n",
              "    }\n",
              "\n",
              "    .dataframe tbody tr th {\n",
              "        vertical-align: top;\n",
              "    }\n",
              "\n",
              "    .dataframe thead th {\n",
              "        text-align: right;\n",
              "    }\n",
              "</style>\n",
              "<table border=\"1\" class=\"dataframe\">\n",
              "  <thead>\n",
              "    <tr style=\"text-align: right;\">\n",
              "      <th></th>\n",
              "      <th>fecha_actualizacion</th>\n",
              "      <th>id_registro</th>\n",
              "      <th>origen</th>\n",
              "      <th>sector</th>\n",
              "      <th>entidad_um</th>\n",
              "      <th>sexo</th>\n",
              "      <th>entidad_nac</th>\n",
              "      <th>entidad_res</th>\n",
              "      <th>municipio_res</th>\n",
              "      <th>tipo_paciente</th>\n",
              "      <th>fecha_ingreso</th>\n",
              "      <th>fecha_sintomas</th>\n",
              "      <th>fecha_def</th>\n",
              "      <th>intubado</th>\n",
              "      <th>neumonia</th>\n",
              "      <th>edad</th>\n",
              "      <th>nacionalidad</th>\n",
              "      <th>embarazo</th>\n",
              "      <th>habla_lengua_indig</th>\n",
              "      <th>diabetes</th>\n",
              "      <th>epoc</th>\n",
              "      <th>asma</th>\n",
              "      <th>inmusupr</th>\n",
              "      <th>hipertension</th>\n",
              "      <th>otra_com</th>\n",
              "      <th>cardiovascular</th>\n",
              "      <th>obesidad</th>\n",
              "      <th>renal_cronica</th>\n",
              "      <th>tabaquismo</th>\n",
              "      <th>otro_caso</th>\n",
              "      <th>resultado</th>\n",
              "      <th>migrante</th>\n",
              "      <th>pais_nacionalidad</th>\n",
              "      <th>pais_origen</th>\n",
              "      <th>uci</th>\n",
              "    </tr>\n",
              "  </thead>\n",
              "  <tbody>\n",
              "    <tr>\n",
              "      <th>0</th>\n",
              "      <td>2020-09-08</td>\n",
              "      <td>1413b4</td>\n",
              "      <td>2</td>\n",
              "      <td>4</td>\n",
              "      <td>25</td>\n",
              "      <td>1</td>\n",
              "      <td>25</td>\n",
              "      <td>25</td>\n",
              "      <td>6</td>\n",
              "      <td>1</td>\n",
              "      <td>2020-04-29</td>\n",
              "      <td>2020-04-24</td>\n",
              "      <td>NaT</td>\n",
              "      <td>97</td>\n",
              "      <td>2</td>\n",
              "      <td>38</td>\n",
              "      <td>1</td>\n",
              "      <td>2</td>\n",
              "      <td>2</td>\n",
              "      <td>2</td>\n",
              "      <td>2</td>\n",
              "      <td>2</td>\n",
              "      <td>2</td>\n",
              "      <td>2</td>\n",
              "      <td>2</td>\n",
              "      <td>2</td>\n",
              "      <td>2</td>\n",
              "      <td>2</td>\n",
              "      <td>2</td>\n",
              "      <td>1</td>\n",
              "      <td>1</td>\n",
              "      <td>99</td>\n",
              "      <td>MÃ©xico</td>\n",
              "      <td>99</td>\n",
              "      <td>97</td>\n",
              "    </tr>\n",
              "    <tr>\n",
              "      <th>1</th>\n",
              "      <td>2020-09-08</td>\n",
              "      <td>18f860</td>\n",
              "      <td>2</td>\n",
              "      <td>3</td>\n",
              "      <td>2</td>\n",
              "      <td>1</td>\n",
              "      <td>2</td>\n",
              "      <td>2</td>\n",
              "      <td>2</td>\n",
              "      <td>2</td>\n",
              "      <td>2020-05-27</td>\n",
              "      <td>2020-05-27</td>\n",
              "      <td>NaT</td>\n",
              "      <td>2</td>\n",
              "      <td>1</td>\n",
              "      <td>59</td>\n",
              "      <td>1</td>\n",
              "      <td>2</td>\n",
              "      <td>2</td>\n",
              "      <td>1</td>\n",
              "      <td>2</td>\n",
              "      <td>2</td>\n",
              "      <td>2</td>\n",
              "      <td>2</td>\n",
              "      <td>2</td>\n",
              "      <td>2</td>\n",
              "      <td>2</td>\n",
              "      <td>2</td>\n",
              "      <td>2</td>\n",
              "      <td>1</td>\n",
              "      <td>1</td>\n",
              "      <td>99</td>\n",
              "      <td>MÃ©xico</td>\n",
              "      <td>99</td>\n",
              "      <td>2</td>\n",
              "    </tr>\n",
              "    <tr>\n",
              "      <th>2</th>\n",
              "      <td>2020-09-08</td>\n",
              "      <td>1057de</td>\n",
              "      <td>2</td>\n",
              "      <td>3</td>\n",
              "      <td>15</td>\n",
              "      <td>2</td>\n",
              "      <td>15</td>\n",
              "      <td>15</td>\n",
              "      <td>33</td>\n",
              "      <td>1</td>\n",
              "      <td>2020-06-19</td>\n",
              "      <td>2020-06-16</td>\n",
              "      <td>NaT</td>\n",
              "      <td>97</td>\n",
              "      <td>2</td>\n",
              "      <td>33</td>\n",
              "      <td>1</td>\n",
              "      <td>97</td>\n",
              "      <td>2</td>\n",
              "      <td>2</td>\n",
              "      <td>2</td>\n",
              "      <td>2</td>\n",
              "      <td>2</td>\n",
              "      <td>2</td>\n",
              "      <td>2</td>\n",
              "      <td>2</td>\n",
              "      <td>2</td>\n",
              "      <td>2</td>\n",
              "      <td>2</td>\n",
              "      <td>1</td>\n",
              "      <td>1</td>\n",
              "      <td>99</td>\n",
              "      <td>MÃ©xico</td>\n",
              "      <td>99</td>\n",
              "      <td>97</td>\n",
              "    </tr>\n",
              "    <tr>\n",
              "      <th>3</th>\n",
              "      <td>2020-09-08</td>\n",
              "      <td>18ae31</td>\n",
              "      <td>2</td>\n",
              "      <td>4</td>\n",
              "      <td>15</td>\n",
              "      <td>1</td>\n",
              "      <td>15</td>\n",
              "      <td>15</td>\n",
              "      <td>58</td>\n",
              "      <td>1</td>\n",
              "      <td>2020-04-20</td>\n",
              "      <td>2020-04-15</td>\n",
              "      <td>NaT</td>\n",
              "      <td>97</td>\n",
              "      <td>2</td>\n",
              "      <td>34</td>\n",
              "      <td>1</td>\n",
              "      <td>2</td>\n",
              "      <td>2</td>\n",
              "      <td>2</td>\n",
              "      <td>2</td>\n",
              "      <td>2</td>\n",
              "      <td>2</td>\n",
              "      <td>2</td>\n",
              "      <td>2</td>\n",
              "      <td>2</td>\n",
              "      <td>2</td>\n",
              "      <td>2</td>\n",
              "      <td>2</td>\n",
              "      <td>99</td>\n",
              "      <td>1</td>\n",
              "      <td>99</td>\n",
              "      <td>MÃ©xico</td>\n",
              "      <td>99</td>\n",
              "      <td>97</td>\n",
              "    </tr>\n",
              "    <tr>\n",
              "      <th>4</th>\n",
              "      <td>2020-09-08</td>\n",
              "      <td>02d970</td>\n",
              "      <td>2</td>\n",
              "      <td>4</td>\n",
              "      <td>13</td>\n",
              "      <td>2</td>\n",
              "      <td>13</td>\n",
              "      <td>13</td>\n",
              "      <td>76</td>\n",
              "      <td>2</td>\n",
              "      <td>2020-04-27</td>\n",
              "      <td>2020-04-23</td>\n",
              "      <td>2020-04-27</td>\n",
              "      <td>2</td>\n",
              "      <td>2</td>\n",
              "      <td>61</td>\n",
              "      <td>1</td>\n",
              "      <td>97</td>\n",
              "      <td>2</td>\n",
              "      <td>2</td>\n",
              "      <td>1</td>\n",
              "      <td>2</td>\n",
              "      <td>2</td>\n",
              "      <td>1</td>\n",
              "      <td>2</td>\n",
              "      <td>2</td>\n",
              "      <td>2</td>\n",
              "      <td>2</td>\n",
              "      <td>2</td>\n",
              "      <td>99</td>\n",
              "      <td>1</td>\n",
              "      <td>99</td>\n",
              "      <td>MÃ©xico</td>\n",
              "      <td>99</td>\n",
              "      <td>2</td>\n",
              "    </tr>\n",
              "  </tbody>\n",
              "</table>\n",
              "</div>"
            ],
            "text/plain": [
              "  fecha_actualizacion id_registro  origen  ...  pais_nacionalidad  pais_origen  uci\n",
              "0          2020-09-08      1413b4       2  ...            MÃ©xico           99   97\n",
              "1          2020-09-08      18f860       2  ...            MÃ©xico           99    2\n",
              "2          2020-09-08      1057de       2  ...            MÃ©xico           99   97\n",
              "3          2020-09-08      18ae31       2  ...            MÃ©xico           99   97\n",
              "4          2020-09-08      02d970       2  ...            MÃ©xico           99    2\n",
              "\n",
              "[5 rows x 35 columns]"
            ]
          },
          "metadata": {
            "tags": []
          },
          "execution_count": 26
        }
      ]
    },
    {
      "cell_type": "code",
      "metadata": {
        "id": "AJE2OYEh3eFj",
        "colab_type": "code",
        "colab": {
          "base_uri": "https://localhost:8080/",
          "height": 374
        },
        "outputId": "f66bc934-27ee-407a-ea10-128b83cd5bca"
      },
      "source": [
        "# unimos los datos con los catalogos para tener mejor entendimiento de ellos\n",
        "data = (\n",
        "    # unimos con el catálogo MUNICIPIOS y ENTIDADES\n",
        "    data.merge(catalogues['de ENTIDADES'], how='left', left_on='entidad_res', right_on='clave_entidad').\n",
        "    drop(columns=['entidad_res', 'abreviatura']).\n",
        "    rename(columns={'entidad_federativa':'entidad_res'}).\n",
        "    merge(catalogues['MUNICIPIOS'], how='left', left_on=['clave_entidad','municipio_res'], right_on=['clave_entidad','clave_municipio']).\n",
        "    drop(columns=['municipio_res', 'clave_entidad', 'clave_municipio']).\n",
        "    rename(columns={'municipio':'municipio_res'})\n",
        ")"
      ],
      "execution_count": 28,
      "outputs": [
        {
          "output_type": "error",
          "ename": "ValueError",
          "evalue": "ignored",
          "traceback": [
            "\u001b[0;31m---------------------------------------------------------------------------\u001b[0m",
            "\u001b[0;31mValueError\u001b[0m                                Traceback (most recent call last)",
            "\u001b[0;32m<ipython-input-28-6f2f807d8b2d>\u001b[0m in \u001b[0;36m<module>\u001b[0;34m()\u001b[0m\n\u001b[1;32m      2\u001b[0m data = (\n\u001b[1;32m      3\u001b[0m     \u001b[0;31m# unimos con el catálogo MUNICIPIOS y ENTIDADES\u001b[0m\u001b[0;34m\u001b[0m\u001b[0;34m\u001b[0m\u001b[0;34m\u001b[0m\u001b[0m\n\u001b[0;32m----> 4\u001b[0;31m     \u001b[0mdata\u001b[0m\u001b[0;34m.\u001b[0m\u001b[0mmerge\u001b[0m\u001b[0;34m(\u001b[0m\u001b[0mcatalogues\u001b[0m\u001b[0;34m[\u001b[0m\u001b[0;34m'de ENTIDADES'\u001b[0m\u001b[0;34m]\u001b[0m\u001b[0;34m,\u001b[0m \u001b[0mhow\u001b[0m\u001b[0;34m=\u001b[0m\u001b[0;34m'left'\u001b[0m\u001b[0;34m,\u001b[0m \u001b[0mleft_on\u001b[0m\u001b[0;34m=\u001b[0m\u001b[0;34m'entidad_res'\u001b[0m\u001b[0;34m,\u001b[0m \u001b[0mright_on\u001b[0m\u001b[0;34m=\u001b[0m\u001b[0;34m'clave_entidad'\u001b[0m\u001b[0;34m)\u001b[0m\u001b[0;34m.\u001b[0m\u001b[0;34m\u001b[0m\u001b[0;34m\u001b[0m\u001b[0m\n\u001b[0m\u001b[1;32m      5\u001b[0m     \u001b[0mdrop\u001b[0m\u001b[0;34m(\u001b[0m\u001b[0mcolumns\u001b[0m\u001b[0;34m=\u001b[0m\u001b[0;34m[\u001b[0m\u001b[0;34m'entidad_res'\u001b[0m\u001b[0;34m,\u001b[0m \u001b[0;34m'abreviatura'\u001b[0m\u001b[0;34m]\u001b[0m\u001b[0;34m)\u001b[0m\u001b[0;34m.\u001b[0m\u001b[0;34m\u001b[0m\u001b[0;34m\u001b[0m\u001b[0m\n\u001b[1;32m      6\u001b[0m     \u001b[0mrename\u001b[0m\u001b[0;34m(\u001b[0m\u001b[0mcolumns\u001b[0m\u001b[0;34m=\u001b[0m\u001b[0;34m{\u001b[0m\u001b[0;34m'entidad_federativa'\u001b[0m\u001b[0;34m:\u001b[0m\u001b[0;34m'entidad_res'\u001b[0m\u001b[0;34m}\u001b[0m\u001b[0;34m)\u001b[0m\u001b[0;34m.\u001b[0m\u001b[0;34m\u001b[0m\u001b[0;34m\u001b[0m\u001b[0m\n",
            "\u001b[0;32m/usr/local/lib/python3.6/dist-packages/pandas/core/frame.py\u001b[0m in \u001b[0;36mmerge\u001b[0;34m(self, right, how, on, left_on, right_on, left_index, right_index, sort, suffixes, copy, indicator, validate)\u001b[0m\n\u001b[1;32m   7295\u001b[0m             \u001b[0mcopy\u001b[0m\u001b[0;34m=\u001b[0m\u001b[0mcopy\u001b[0m\u001b[0;34m,\u001b[0m\u001b[0;34m\u001b[0m\u001b[0;34m\u001b[0m\u001b[0m\n\u001b[1;32m   7296\u001b[0m             \u001b[0mindicator\u001b[0m\u001b[0;34m=\u001b[0m\u001b[0mindicator\u001b[0m\u001b[0;34m,\u001b[0m\u001b[0;34m\u001b[0m\u001b[0;34m\u001b[0m\u001b[0m\n\u001b[0;32m-> 7297\u001b[0;31m             \u001b[0mvalidate\u001b[0m\u001b[0;34m=\u001b[0m\u001b[0mvalidate\u001b[0m\u001b[0;34m,\u001b[0m\u001b[0;34m\u001b[0m\u001b[0;34m\u001b[0m\u001b[0m\n\u001b[0m\u001b[1;32m   7298\u001b[0m         )\n\u001b[1;32m   7299\u001b[0m \u001b[0;34m\u001b[0m\u001b[0m\n",
            "\u001b[0;32m/usr/local/lib/python3.6/dist-packages/pandas/core/reshape/merge.py\u001b[0m in \u001b[0;36mmerge\u001b[0;34m(left, right, how, on, left_on, right_on, left_index, right_index, sort, suffixes, copy, indicator, validate)\u001b[0m\n\u001b[1;32m     84\u001b[0m         \u001b[0mcopy\u001b[0m\u001b[0;34m=\u001b[0m\u001b[0mcopy\u001b[0m\u001b[0;34m,\u001b[0m\u001b[0;34m\u001b[0m\u001b[0;34m\u001b[0m\u001b[0m\n\u001b[1;32m     85\u001b[0m         \u001b[0mindicator\u001b[0m\u001b[0;34m=\u001b[0m\u001b[0mindicator\u001b[0m\u001b[0;34m,\u001b[0m\u001b[0;34m\u001b[0m\u001b[0;34m\u001b[0m\u001b[0m\n\u001b[0;32m---> 86\u001b[0;31m         \u001b[0mvalidate\u001b[0m\u001b[0;34m=\u001b[0m\u001b[0mvalidate\u001b[0m\u001b[0;34m,\u001b[0m\u001b[0;34m\u001b[0m\u001b[0;34m\u001b[0m\u001b[0m\n\u001b[0m\u001b[1;32m     87\u001b[0m     )\n\u001b[1;32m     88\u001b[0m     \u001b[0;32mreturn\u001b[0m \u001b[0mop\u001b[0m\u001b[0;34m.\u001b[0m\u001b[0mget_result\u001b[0m\u001b[0;34m(\u001b[0m\u001b[0;34m)\u001b[0m\u001b[0;34m\u001b[0m\u001b[0;34m\u001b[0m\u001b[0m\n",
            "\u001b[0;32m/usr/local/lib/python3.6/dist-packages/pandas/core/reshape/merge.py\u001b[0m in \u001b[0;36m__init__\u001b[0;34m(self, left, right, how, on, left_on, right_on, axis, left_index, right_index, sort, suffixes, copy, indicator, validate)\u001b[0m\n\u001b[1;32m    629\u001b[0m         \u001b[0;31m# validate the merge keys dtypes. We may need to coerce\u001b[0m\u001b[0;34m\u001b[0m\u001b[0;34m\u001b[0m\u001b[0;34m\u001b[0m\u001b[0m\n\u001b[1;32m    630\u001b[0m         \u001b[0;31m# to avoid incompat dtypes\u001b[0m\u001b[0;34m\u001b[0m\u001b[0;34m\u001b[0m\u001b[0;34m\u001b[0m\u001b[0m\n\u001b[0;32m--> 631\u001b[0;31m         \u001b[0mself\u001b[0m\u001b[0;34m.\u001b[0m\u001b[0m_maybe_coerce_merge_keys\u001b[0m\u001b[0;34m(\u001b[0m\u001b[0;34m)\u001b[0m\u001b[0;34m\u001b[0m\u001b[0;34m\u001b[0m\u001b[0m\n\u001b[0m\u001b[1;32m    632\u001b[0m \u001b[0;34m\u001b[0m\u001b[0m\n\u001b[1;32m    633\u001b[0m         \u001b[0;31m# If argument passed to validate,\u001b[0m\u001b[0;34m\u001b[0m\u001b[0;34m\u001b[0m\u001b[0;34m\u001b[0m\u001b[0m\n",
            "\u001b[0;32m/usr/local/lib/python3.6/dist-packages/pandas/core/reshape/merge.py\u001b[0m in \u001b[0;36m_maybe_coerce_merge_keys\u001b[0;34m(self)\u001b[0m\n\u001b[1;32m   1144\u001b[0m                     \u001b[0minferred_right\u001b[0m \u001b[0;32min\u001b[0m \u001b[0mstring_types\u001b[0m \u001b[0;32mand\u001b[0m \u001b[0minferred_left\u001b[0m \u001b[0;32mnot\u001b[0m \u001b[0;32min\u001b[0m \u001b[0mstring_types\u001b[0m\u001b[0;34m\u001b[0m\u001b[0;34m\u001b[0m\u001b[0m\n\u001b[1;32m   1145\u001b[0m                 ):\n\u001b[0;32m-> 1146\u001b[0;31m                     \u001b[0;32mraise\u001b[0m \u001b[0mValueError\u001b[0m\u001b[0;34m(\u001b[0m\u001b[0mmsg\u001b[0m\u001b[0;34m)\u001b[0m\u001b[0;34m\u001b[0m\u001b[0;34m\u001b[0m\u001b[0m\n\u001b[0m\u001b[1;32m   1147\u001b[0m \u001b[0;34m\u001b[0m\u001b[0m\n\u001b[1;32m   1148\u001b[0m             \u001b[0;31m# datetimelikes must match exactly\u001b[0m\u001b[0;34m\u001b[0m\u001b[0;34m\u001b[0m\u001b[0;34m\u001b[0m\u001b[0m\n",
            "\u001b[0;31mValueError\u001b[0m: You are trying to merge on object and int64 columns. If you wish to proceed you should use pd.concat"
          ]
        }
      ]
    },
    {
      "cell_type": "code",
      "metadata": {
        "id": "Pu3ISBvV3jf6",
        "colab_type": "code",
        "colab": {}
      },
      "source": [
        "\n",
        "# unimos con el catálogo de ENTIDADES\n",
        "entidades_cols = [col for col in data.columns if \"entidad\" in col and col != 'entidad_res']\n",
        "for col in entidades_cols:\n",
        "    data = (\n",
        "        data.merge(catalogues['de ENTIDADES'], how='left', left_on=col, right_on='clave_entidad').\n",
        "        drop(columns=[col, 'abreviatura', 'clave_entidad']).\n",
        "        rename(columns={'entidad_federativa':col})\n",
        "    )"
      ],
      "execution_count": 29,
      "outputs": []
    },
    {
      "cell_type": "code",
      "metadata": {
        "id": "CNJ6yi093o7a",
        "colab_type": "code",
        "colab": {}
      },
      "source": [
        "# unimos con el catálogo SI_NO\n",
        "sino_cols = ['intubado', 'neumonia', 'embarazo', 'habla_lengua_indig', 'diabetes', 'epoc', 'asma', 'inmusupr',\n",
        "             'hipertension', 'otra_com', 'cardiovascular', 'obesidad', 'renal_cronica', 'tabaquismo', \n",
        "             'otro_caso', 'migrante', 'uci']\n",
        "for col in sino_cols:\n",
        "    data = (\n",
        "        data.merge(catalogues['SI_NO'], how='left', left_on=col, right_on='clave').\n",
        "        drop(columns=[col, 'clave']).\n",
        "        rename(columns={'descripción':col})\n",
        "    )"
      ],
      "execution_count": 30,
      "outputs": []
    },
    {
      "cell_type": "code",
      "metadata": {
        "id": "tHD_dPCU3uex",
        "colab_type": "code",
        "colab": {
          "base_uri": "https://localhost:8080/",
          "height": 34
        },
        "outputId": "4f3fcb69-4a6e-4c03-b491-e3053841c2ac"
      },
      "source": [
        "# Corregimos nombre de columnas\n",
        "catalogues['RESULTADO'].columns"
      ],
      "execution_count": 31,
      "outputs": [
        {
          "output_type": "execute_result",
          "data": {
            "text/plain": [
              "Index(['unnamed:_0', 'unnamed:_1'], dtype='object')"
            ]
          },
          "metadata": {
            "tags": []
          },
          "execution_count": 31
        }
      ]
    },
    {
      "cell_type": "code",
      "metadata": {
        "id": "uXlLtik83x4C",
        "colab_type": "code",
        "colab": {
          "base_uri": "https://localhost:8080/",
          "height": 34
        },
        "outputId": "37006329-da76-4574-d879-66282c26a2ff"
      },
      "source": [
        "catalogues['RESULTADO'].columns = ['clave', 'descripción']\n",
        "catalogues['RESULTADO'].columns"
      ],
      "execution_count": 32,
      "outputs": [
        {
          "output_type": "execute_result",
          "data": {
            "text/plain": [
              "Index(['clave', 'descripción'], dtype='object')"
            ]
          },
          "metadata": {
            "tags": []
          },
          "execution_count": 32
        }
      ]
    },
    {
      "cell_type": "code",
      "metadata": {
        "id": "1Byoqu6R3ztE",
        "colab_type": "code",
        "colab": {}
      },
      "source": [
        "Removemos la primer fila que no es útil\n",
        "catalogues['RESULTADO'] = catalogues['RESULTADO'].drop(index=0)"
      ],
      "execution_count": 33,
      "outputs": []
    },
    {
      "cell_type": "code",
      "metadata": {
        "id": "OhhRJ9ba4TEL",
        "colab_type": "code",
        "colab": {}
      },
      "source": [
        "# Convertimos el tipo de dato\n",
        "catalogues['RESULTADO']['clave'] = catalogues['RESULTADO']['clave'].astype(int)"
      ],
      "execution_count": 34,
      "outputs": []
    },
    {
      "cell_type": "code",
      "metadata": {
        "id": "IP_FTu1m4WFN",
        "colab_type": "code",
        "colab": {}
      },
      "source": [
        "# Fin dela limpieza\n",
        "# unimos otras columnnas que comparten lógica\n",
        "other_cols = ['origen', 'sector', 'sexo', 'tipo_paciente', 'nacionalidad', 'resultado']\n",
        "for col, cat in zip(other_cols, [x.upper() for x in other_cols]):\n",
        "    data = (\n",
        "        data.merge(catalogues[cat], how='left', left_on=col, right_on='clave').\n",
        "        drop(columns=[col, 'clave']).\n",
        "        rename(columns={'descripción':col})\n",
        "    )\n"
      ],
      "execution_count": 35,
      "outputs": []
    },
    {
      "cell_type": "code",
      "metadata": {
        "id": "d-2JQ9vK4ezE",
        "colab_type": "code",
        "colab": {}
      },
      "source": [
        "# creamos algunas variables que podrían ser útiles después\n",
        "data['defuncion'] = ~data.fecha_def.isna()\n",
        "data['mes_def'] = data.fecha_def.dt.month\n",
        "data['año_def'] = data.fecha_def.dt.year\n",
        "data['mes_ingreso'] = data.fecha_ingreso.dt.month\n",
        "data['año_ingreso'] = data.fecha_ingreso.dt.year"
      ],
      "execution_count": 36,
      "outputs": []
    },
    {
      "cell_type": "code",
      "metadata": {
        "id": "Osciymyn4kHD",
        "colab_type": "code",
        "colab": {
          "base_uri": "https://localhost:8080/",
          "height": 394
        },
        "outputId": "c65b8b61-6798-4ed3-e63f-ff994eab6ca6"
      },
      "source": [
        "data.head()"
      ],
      "execution_count": 37,
      "outputs": [
        {
          "output_type": "execute_result",
          "data": {
            "text/html": [
              "<div>\n",
              "<style scoped>\n",
              "    .dataframe tbody tr th:only-of-type {\n",
              "        vertical-align: middle;\n",
              "    }\n",
              "\n",
              "    .dataframe tbody tr th {\n",
              "        vertical-align: top;\n",
              "    }\n",
              "\n",
              "    .dataframe thead th {\n",
              "        text-align: right;\n",
              "    }\n",
              "</style>\n",
              "<table border=\"1\" class=\"dataframe\">\n",
              "  <thead>\n",
              "    <tr style=\"text-align: right;\">\n",
              "      <th></th>\n",
              "      <th>fecha_actualizacion</th>\n",
              "      <th>id_registro</th>\n",
              "      <th>fecha_ingreso</th>\n",
              "      <th>fecha_sintomas</th>\n",
              "      <th>fecha_def</th>\n",
              "      <th>edad</th>\n",
              "      <th>pais_nacionalidad</th>\n",
              "      <th>pais_origen</th>\n",
              "      <th>entidad_res</th>\n",
              "      <th>municipio_res</th>\n",
              "      <th>entidad_um</th>\n",
              "      <th>entidad_nac</th>\n",
              "      <th>intubado</th>\n",
              "      <th>neumonia</th>\n",
              "      <th>embarazo</th>\n",
              "      <th>habla_lengua_indig</th>\n",
              "      <th>diabetes</th>\n",
              "      <th>epoc</th>\n",
              "      <th>asma</th>\n",
              "      <th>inmusupr</th>\n",
              "      <th>hipertension</th>\n",
              "      <th>otra_com</th>\n",
              "      <th>cardiovascular</th>\n",
              "      <th>obesidad</th>\n",
              "      <th>renal_cronica</th>\n",
              "      <th>tabaquismo</th>\n",
              "      <th>otro_caso</th>\n",
              "      <th>migrante</th>\n",
              "      <th>uci</th>\n",
              "      <th>origen</th>\n",
              "      <th>sector</th>\n",
              "      <th>sexo</th>\n",
              "      <th>tipo_paciente</th>\n",
              "      <th>nacionalidad</th>\n",
              "      <th>resultado</th>\n",
              "      <th>defuncion</th>\n",
              "      <th>mes_def</th>\n",
              "      <th>año_def</th>\n",
              "      <th>mes_ingreso</th>\n",
              "      <th>año_ingreso</th>\n",
              "    </tr>\n",
              "  </thead>\n",
              "  <tbody>\n",
              "    <tr>\n",
              "      <th>0</th>\n",
              "      <td>2020-09-08</td>\n",
              "      <td>1413b4</td>\n",
              "      <td>2020-04-29</td>\n",
              "      <td>2020-04-24</td>\n",
              "      <td>NaT</td>\n",
              "      <td>38</td>\n",
              "      <td>MÃ©xico</td>\n",
              "      <td>99</td>\n",
              "      <td>SINALOA</td>\n",
              "      <td>CULIACÁN</td>\n",
              "      <td>SINALOA</td>\n",
              "      <td>SINALOA</td>\n",
              "      <td>NO APLICA</td>\n",
              "      <td>NO</td>\n",
              "      <td>NO</td>\n",
              "      <td>NO</td>\n",
              "      <td>NO</td>\n",
              "      <td>NO</td>\n",
              "      <td>NO</td>\n",
              "      <td>NO</td>\n",
              "      <td>NO</td>\n",
              "      <td>NO</td>\n",
              "      <td>NO</td>\n",
              "      <td>NO</td>\n",
              "      <td>NO</td>\n",
              "      <td>NO</td>\n",
              "      <td>SI</td>\n",
              "      <td>NO ESPECIFICADO</td>\n",
              "      <td>NO APLICA</td>\n",
              "      <td>FUERA DE USMER</td>\n",
              "      <td>IMSS</td>\n",
              "      <td>MUJER</td>\n",
              "      <td>AMBULATORIO</td>\n",
              "      <td>MEXICANA</td>\n",
              "      <td>Positivo SARS-CoV-2</td>\n",
              "      <td>False</td>\n",
              "      <td>NaN</td>\n",
              "      <td>NaN</td>\n",
              "      <td>4</td>\n",
              "      <td>2020</td>\n",
              "    </tr>\n",
              "    <tr>\n",
              "      <th>1</th>\n",
              "      <td>2020-09-08</td>\n",
              "      <td>18f860</td>\n",
              "      <td>2020-05-27</td>\n",
              "      <td>2020-05-27</td>\n",
              "      <td>NaT</td>\n",
              "      <td>59</td>\n",
              "      <td>MÃ©xico</td>\n",
              "      <td>99</td>\n",
              "      <td>BAJA CALIFORNIA</td>\n",
              "      <td>MEXICALI</td>\n",
              "      <td>BAJA CALIFORNIA</td>\n",
              "      <td>BAJA CALIFORNIA</td>\n",
              "      <td>NO</td>\n",
              "      <td>SI</td>\n",
              "      <td>NO</td>\n",
              "      <td>NO</td>\n",
              "      <td>SI</td>\n",
              "      <td>NO</td>\n",
              "      <td>NO</td>\n",
              "      <td>NO</td>\n",
              "      <td>NO</td>\n",
              "      <td>NO</td>\n",
              "      <td>NO</td>\n",
              "      <td>NO</td>\n",
              "      <td>NO</td>\n",
              "      <td>NO</td>\n",
              "      <td>SI</td>\n",
              "      <td>NO ESPECIFICADO</td>\n",
              "      <td>NO</td>\n",
              "      <td>FUERA DE USMER</td>\n",
              "      <td>ESTATAL</td>\n",
              "      <td>MUJER</td>\n",
              "      <td>HOSPITALIZADO</td>\n",
              "      <td>MEXICANA</td>\n",
              "      <td>Positivo SARS-CoV-2</td>\n",
              "      <td>False</td>\n",
              "      <td>NaN</td>\n",
              "      <td>NaN</td>\n",
              "      <td>5</td>\n",
              "      <td>2020</td>\n",
              "    </tr>\n",
              "    <tr>\n",
              "      <th>2</th>\n",
              "      <td>2020-09-08</td>\n",
              "      <td>1057de</td>\n",
              "      <td>2020-06-19</td>\n",
              "      <td>2020-06-16</td>\n",
              "      <td>NaT</td>\n",
              "      <td>33</td>\n",
              "      <td>MÃ©xico</td>\n",
              "      <td>99</td>\n",
              "      <td>MÉXICO</td>\n",
              "      <td>ECATEPEC DE MORELOS</td>\n",
              "      <td>MÉXICO</td>\n",
              "      <td>MÉXICO</td>\n",
              "      <td>NO APLICA</td>\n",
              "      <td>NO</td>\n",
              "      <td>NO APLICA</td>\n",
              "      <td>NO</td>\n",
              "      <td>NO</td>\n",
              "      <td>NO</td>\n",
              "      <td>NO</td>\n",
              "      <td>NO</td>\n",
              "      <td>NO</td>\n",
              "      <td>NO</td>\n",
              "      <td>NO</td>\n",
              "      <td>NO</td>\n",
              "      <td>NO</td>\n",
              "      <td>NO</td>\n",
              "      <td>SI</td>\n",
              "      <td>NO ESPECIFICADO</td>\n",
              "      <td>NO APLICA</td>\n",
              "      <td>FUERA DE USMER</td>\n",
              "      <td>ESTATAL</td>\n",
              "      <td>HOMBRE</td>\n",
              "      <td>AMBULATORIO</td>\n",
              "      <td>MEXICANA</td>\n",
              "      <td>Positivo SARS-CoV-2</td>\n",
              "      <td>False</td>\n",
              "      <td>NaN</td>\n",
              "      <td>NaN</td>\n",
              "      <td>6</td>\n",
              "      <td>2020</td>\n",
              "    </tr>\n",
              "    <tr>\n",
              "      <th>3</th>\n",
              "      <td>2020-09-08</td>\n",
              "      <td>18ae31</td>\n",
              "      <td>2020-04-20</td>\n",
              "      <td>2020-04-15</td>\n",
              "      <td>NaT</td>\n",
              "      <td>34</td>\n",
              "      <td>MÃ©xico</td>\n",
              "      <td>99</td>\n",
              "      <td>MÉXICO</td>\n",
              "      <td>NEZAHUALCÓYOTL</td>\n",
              "      <td>MÉXICO</td>\n",
              "      <td>MÉXICO</td>\n",
              "      <td>NO APLICA</td>\n",
              "      <td>NO</td>\n",
              "      <td>NO</td>\n",
              "      <td>NO</td>\n",
              "      <td>NO</td>\n",
              "      <td>NO</td>\n",
              "      <td>NO</td>\n",
              "      <td>NO</td>\n",
              "      <td>NO</td>\n",
              "      <td>NO</td>\n",
              "      <td>NO</td>\n",
              "      <td>NO</td>\n",
              "      <td>NO</td>\n",
              "      <td>NO</td>\n",
              "      <td>NO ESPECIFICADO</td>\n",
              "      <td>NO ESPECIFICADO</td>\n",
              "      <td>NO APLICA</td>\n",
              "      <td>FUERA DE USMER</td>\n",
              "      <td>IMSS</td>\n",
              "      <td>MUJER</td>\n",
              "      <td>AMBULATORIO</td>\n",
              "      <td>MEXICANA</td>\n",
              "      <td>Positivo SARS-CoV-2</td>\n",
              "      <td>False</td>\n",
              "      <td>NaN</td>\n",
              "      <td>NaN</td>\n",
              "      <td>4</td>\n",
              "      <td>2020</td>\n",
              "    </tr>\n",
              "    <tr>\n",
              "      <th>4</th>\n",
              "      <td>2020-09-08</td>\n",
              "      <td>02d970</td>\n",
              "      <td>2020-04-27</td>\n",
              "      <td>2020-04-23</td>\n",
              "      <td>2020-04-27</td>\n",
              "      <td>61</td>\n",
              "      <td>MÃ©xico</td>\n",
              "      <td>99</td>\n",
              "      <td>HIDALGO</td>\n",
              "      <td>TULA DE ALLENDE</td>\n",
              "      <td>HIDALGO</td>\n",
              "      <td>HIDALGO</td>\n",
              "      <td>NO</td>\n",
              "      <td>NO</td>\n",
              "      <td>NO APLICA</td>\n",
              "      <td>NO</td>\n",
              "      <td>NO</td>\n",
              "      <td>SI</td>\n",
              "      <td>NO</td>\n",
              "      <td>NO</td>\n",
              "      <td>SI</td>\n",
              "      <td>NO</td>\n",
              "      <td>NO</td>\n",
              "      <td>NO</td>\n",
              "      <td>NO</td>\n",
              "      <td>NO</td>\n",
              "      <td>NO ESPECIFICADO</td>\n",
              "      <td>NO ESPECIFICADO</td>\n",
              "      <td>NO</td>\n",
              "      <td>FUERA DE USMER</td>\n",
              "      <td>IMSS</td>\n",
              "      <td>HOMBRE</td>\n",
              "      <td>HOSPITALIZADO</td>\n",
              "      <td>MEXICANA</td>\n",
              "      <td>Positivo SARS-CoV-2</td>\n",
              "      <td>True</td>\n",
              "      <td>4.0</td>\n",
              "      <td>2020.0</td>\n",
              "      <td>4</td>\n",
              "      <td>2020</td>\n",
              "    </tr>\n",
              "  </tbody>\n",
              "</table>\n",
              "</div>"
            ],
            "text/plain": [
              "  fecha_actualizacion id_registro  ... mes_ingreso año_ingreso\n",
              "0          2020-09-08      1413b4  ...           4        2020\n",
              "1          2020-09-08      18f860  ...           5        2020\n",
              "2          2020-09-08      1057de  ...           6        2020\n",
              "3          2020-09-08      18ae31  ...           4        2020\n",
              "4          2020-09-08      02d970  ...           4        2020\n",
              "\n",
              "[5 rows x 40 columns]"
            ]
          },
          "metadata": {
            "tags": []
          },
          "execution_count": 37
        }
      ]
    },
    {
      "cell_type": "markdown",
      "metadata": {
        "id": "wek3az-j5eJm",
        "colab_type": "text"
      },
      "source": [
        "##**¿Tienen los pacientes con hipertensión un riesgo más alto de defunción?**"
      ]
    },
    {
      "cell_type": "code",
      "metadata": {
        "id": "GLdndbjd5hkC",
        "colab_type": "code",
        "colab": {
          "base_uri": "https://localhost:8080/",
          "height": 153
        },
        "outputId": "0c626a45-e1f9-4ecf-dbc5-cde46b00b84b"
      },
      "source": [
        "# hipertension\n",
        "data.groupby('hipertension').defuncion.value_counts(normalize=True)\n"
      ],
      "execution_count": 41,
      "outputs": [
        {
          "output_type": "execute_result",
          "data": {
            "text/plain": [
              "hipertension  defuncion\n",
              "NO            False        0.960276\n",
              "              True         0.039724\n",
              "SE IGNORA     False        0.874874\n",
              "              True         0.125126\n",
              "SI            False        0.833960\n",
              "              True         0.166040\n",
              "Name: defuncion, dtype: float64"
            ]
          },
          "metadata": {
            "tags": []
          },
          "execution_count": 41
        }
      ]
    },
    {
      "cell_type": "markdown",
      "metadata": {
        "id": "PmS5hu-L7FZh",
        "colab_type": "text"
      },
      "source": [
        "**Respuesta:** De los que no tenian hipertensión fallecio el 3.9724% mientras que de los que si tenian fallecio el 16.6040%"
      ]
    },
    {
      "cell_type": "markdown",
      "metadata": {
        "id": "STSnjXN77c8q",
        "colab_type": "text"
      },
      "source": [
        "##**¿Cuántos casos confirmados se tienen por Estado?**"
      ]
    },
    {
      "cell_type": "code",
      "metadata": {
        "id": "sYEWO2Mv7pdc",
        "colab_type": "code",
        "colab": {
          "base_uri": "https://localhost:8080/",
          "height": 578
        },
        "outputId": "8ca70f8f-1813-4663-af40-a5d2bd4aba45"
      },
      "source": [
        "data.entidad_res.value_counts()"
      ],
      "execution_count": 49,
      "outputs": [
        {
          "output_type": "execute_result",
          "data": {
            "text/plain": [
              "CIUDAD DE MÉXICO                   297270\n",
              "MÉXICO                             178629\n",
              "GUANAJUATO                          82439\n",
              "NUEVO LEÓN                          74491\n",
              "PUEBLA                              61427\n",
              "TAMAULIPAS                          59580\n",
              "TABASCO                             58103\n",
              "JALISCO                             56616\n",
              "COAHUILA DE ZARAGOZA                56397\n",
              "VERACRUZ DE IGNACIO DE LA LLAVE     47492\n",
              "SAN LUIS POTOSÍ                     43722\n",
              "MICHOACÁN DE OCAMPO                 42085\n",
              "SONORA                              41707\n",
              "SINALOA                             30521\n",
              "YUCATÁN                             30267\n",
              "BAJA CALIFORNIA                     29084\n",
              "GUERRERO                            27829\n",
              "OAXACA                              21421\n",
              "DURANGO                             21290\n",
              "CHIHUAHUA                           20209\n",
              "HIDALGO                             19265\n",
              "BAJA CALIFORNIA SUR                 19054\n",
              "AGUASCALIENTES                      18775\n",
              "TLAXCALA                            18517\n",
              "QUINTANA ROO                        18164\n",
              "ZACATECAS                           13126\n",
              "QUERÉTARO                           12712\n",
              "CAMPECHE                            11616\n",
              "MORELOS                             11397\n",
              "CHIAPAS                             10864\n",
              "NAYARIT                              9294\n",
              "COLIMA                               7034\n",
              "Name: entidad_res, dtype: int64"
            ]
          },
          "metadata": {
            "tags": []
          },
          "execution_count": 49
        }
      ]
    },
    {
      "cell_type": "markdown",
      "metadata": {
        "id": "2AffoSQa8jln",
        "colab_type": "text"
      },
      "source": [
        "##**¿Cuántas defunciones se tienen por Estado?**"
      ]
    },
    {
      "cell_type": "code",
      "metadata": {
        "id": "nSQhCmDT8lxC",
        "colab_type": "code",
        "colab": {
          "base_uri": "https://localhost:8080/",
          "height": 1000
        },
        "outputId": "a8a84a86-474b-48da-af07-1f320f67db42"
      },
      "source": [
        "\n",
        "\n",
        "lista = data.groupby(['entidad_res'])['defuncion'].value_counts()\n",
        "lista.head(60)"
      ],
      "execution_count": 107,
      "outputs": [
        {
          "output_type": "execute_result",
          "data": {
            "text/plain": [
              "entidad_res                      defuncion\n",
              "AGUASCALIENTES                   False         18226\n",
              "                                 True            549\n",
              "BAJA CALIFORNIA                  False         25065\n",
              "                                 True           4019\n",
              "BAJA CALIFORNIA SUR              False         18545\n",
              "                                 True            509\n",
              "CAMPECHE                         False         10667\n",
              "                                 True            949\n",
              "CHIAPAS                          False          9645\n",
              "                                 True           1219\n",
              "CHIHUAHUA                        False         18218\n",
              "                                 True           1991\n",
              "CIUDAD DE MÉXICO                 False        285463\n",
              "                                 True          11807\n",
              "COAHUILA DE ZARAGOZA             False         54345\n",
              "                                 True           2052\n",
              "COLIMA                           False          6465\n",
              "                                 True            569\n",
              "DURANGO                          False         20607\n",
              "                                 True            683\n",
              "GUANAJUATO                       False         79521\n",
              "                                 True           2918\n",
              "GUERRERO                         False         25597\n",
              "                                 True           2232\n",
              "HIDALGO                          False         17256\n",
              "                                 True           2009\n",
              "JALISCO                          False         52865\n",
              "                                 True           3751\n",
              "MICHOACÁN DE OCAMPO              False         40259\n",
              "                                 True           1826\n",
              "MORELOS                          False         10159\n",
              "                                 True           1238\n",
              "MÉXICO                           False        165365\n",
              "                                 True          13264\n",
              "NAYARIT                          False          8507\n",
              "                                 True            787\n",
              "NUEVO LEÓN                       False         71099\n",
              "                                 True           3392\n",
              "OAXACA                           False         19832\n",
              "                                 True           1589\n",
              "PUEBLA                           False         56903\n",
              "                                 True           4524\n",
              "QUERÉTARO                        False         11760\n",
              "                                 True            952\n",
              "QUINTANA ROO                     False         16298\n",
              "                                 True           1866\n",
              "SAN LUIS POTOSÍ                  False         42050\n",
              "                                 True           1672\n",
              "SINALOA                          False         26870\n",
              "                                 True           3651\n",
              "SONORA                           False         38475\n",
              "                                 True           3232\n",
              "TABASCO                          False         55194\n",
              "                                 True           2909\n",
              "TAMAULIPAS                       False         56801\n",
              "                                 True           2779\n",
              "TLAXCALA                         False         17208\n",
              "                                 True           1309\n",
              "VERACRUZ DE IGNACIO DE LA LLAVE  False         42765\n",
              "                                 True           4727\n",
              "Name: defuncion, dtype: int64"
            ]
          },
          "metadata": {
            "tags": []
          },
          "execution_count": 107
        }
      ]
    },
    {
      "cell_type": "code",
      "metadata": {
        "id": "ZWcsp3uH_4XR",
        "colab_type": "code",
        "colab": {
          "base_uri": "https://localhost:8080/",
          "height": 221
        },
        "outputId": "4d8599a4-42b7-495b-a2ec-281e7d166db2"
      },
      "source": [
        "lista.tail(10)"
      ],
      "execution_count": 84,
      "outputs": [
        {
          "output_type": "execute_result",
          "data": {
            "text/plain": [
              "entidad_res                      defuncion\n",
              "TAMAULIPAS                       False        56801\n",
              "                                 True          2779\n",
              "TLAXCALA                         False        17208\n",
              "                                 True          1309\n",
              "VERACRUZ DE IGNACIO DE LA LLAVE  False        42765\n",
              "                                 True          4727\n",
              "YUCATÁN                          False        28499\n",
              "                                 True          1768\n",
              "ZACATECAS                        False        12400\n",
              "                                 True           726\n",
              "Name: id_registro, dtype: int64"
            ]
          },
          "metadata": {
            "tags": []
          },
          "execution_count": 84
        }
      ]
    },
    {
      "cell_type": "markdown",
      "metadata": {
        "id": "CN653rmVNTMf",
        "colab_type": "text"
      },
      "source": [
        "## **¿Cuántos fallecimientos han ocurrido en el Estado con mayor número de casos confirmados?**"
      ]
    },
    {
      "cell_type": "code",
      "metadata": {
        "id": "9yGt2WURNV1q",
        "colab_type": "code",
        "colab": {
          "base_uri": "https://localhost:8080/",
          "height": 51
        },
        "outputId": "b0f63f9d-bc5a-4f9c-a877-ddcc7b534384"
      },
      "source": [
        "data[data.defuncion & (data.entidad_res == \"CIUDAD DE MÉXICO\")].defuncion.value_counts()"
      ],
      "execution_count": 140,
      "outputs": [
        {
          "output_type": "execute_result",
          "data": {
            "text/plain": [
              "True    11807\n",
              "Name: defuncion, dtype: int64"
            ]
          },
          "metadata": {
            "tags": []
          },
          "execution_count": 140
        }
      ]
    },
    {
      "cell_type": "markdown",
      "metadata": {
        "id": "A8p_hNvS0oEQ",
        "colab_type": "text"
      },
      "source": [
        "##**¿Cuántos fallecimientos han ocurrido en los pacientes Ambulatorios?**"
      ]
    },
    {
      "cell_type": "code",
      "metadata": {
        "id": "dYks7Iq00q_q",
        "colab_type": "code",
        "colab": {
          "base_uri": "https://localhost:8080/",
          "height": 51
        },
        "outputId": "a8ed8485-4ca5-45e0-ddb1-2ceccf14f3b5"
      },
      "source": [
        "data[data.defuncion & (data.tipo_paciente == \"AMBULATORIO\")].defuncion.value_counts()"
      ],
      "execution_count": 141,
      "outputs": [
        {
          "output_type": "execute_result",
          "data": {
            "text/plain": [
              "True    9327\n",
              "Name: defuncion, dtype: int64"
            ]
          },
          "metadata": {
            "tags": []
          },
          "execution_count": 141
        }
      ]
    }
  ]
}